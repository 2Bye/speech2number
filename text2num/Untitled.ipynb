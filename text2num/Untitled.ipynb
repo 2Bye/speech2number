{
 "cells": [
  {
   "cell_type": "code",
   "execution_count": 8,
   "id": "7a1cfea8",
   "metadata": {},
   "outputs": [],
   "source": [
    "from text_to_num.transforms import text2num"
   ]
  },
  {
   "cell_type": "code",
   "execution_count": 20,
   "id": "ec85e296",
   "metadata": {},
   "outputs": [
    {
     "data": {
      "text/plain": [
       "108004"
      ]
     },
     "execution_count": 20,
     "metadata": {},
     "output_type": "execute_result"
    }
   ],
   "source": [
    "text2num('сто  восемь тысяч четыре', 'ru')"
   ]
  },
  {
   "cell_type": "code",
   "execution_count": null,
   "id": "458016b9",
   "metadata": {},
   "outputs": [],
   "source": []
  }
 ],
 "metadata": {
  "kernelspec": {
   "display_name": "Python 3 (ipykernel)",
   "language": "python",
   "name": "python3"
  },
  "language_info": {
   "codemirror_mode": {
    "name": "ipython",
    "version": 3
   },
   "file_extension": ".py",
   "mimetype": "text/x-python",
   "name": "python",
   "nbconvert_exporter": "python",
   "pygments_lexer": "ipython3",
   "version": "3.8.12"
  }
 },
 "nbformat": 4,
 "nbformat_minor": 5
}
