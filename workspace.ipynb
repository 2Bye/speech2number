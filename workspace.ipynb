{
 "cells": [
  {
   "cell_type": "code",
   "execution_count": 104,
   "id": "b5c85f6c",
   "metadata": {},
   "outputs": [],
   "source": [
    "import json\n",
    "import os\n",
    "import pandas as pd\n",
    "import numpy as np\n",
    "import soundfile as sf\n",
    "from pydub import AudioSegment\n",
    "from num2words import num2words\n",
    "from audiomentations import Compose, AddGaussianNoise, TimeStretch, PitchShift, Shift"
   ]
  },
  {
   "cell_type": "markdown",
   "id": "9eacba73",
   "metadata": {},
   "source": [
    "## data exploration and preprocessing"
   ]
  },
  {
   "cell_type": "code",
   "execution_count": 4,
   "id": "6bbcc512",
   "metadata": {},
   "outputs": [],
   "source": [
    "data = pd.read_csv('numbers2/train.csv', sep=',')"
   ]
  },
  {
   "cell_type": "code",
   "execution_count": 5,
   "id": "2710db16",
   "metadata": {},
   "outputs": [
    {
     "data": {
      "text/html": [
       "<div>\n",
       "<style scoped>\n",
       "    .dataframe tbody tr th:only-of-type {\n",
       "        vertical-align: middle;\n",
       "    }\n",
       "\n",
       "    .dataframe tbody tr th {\n",
       "        vertical-align: top;\n",
       "    }\n",
       "\n",
       "    .dataframe thead th {\n",
       "        text-align: right;\n",
       "    }\n",
       "</style>\n",
       "<table border=\"1\" class=\"dataframe\">\n",
       "  <thead>\n",
       "    <tr style=\"text-align: right;\">\n",
       "      <th></th>\n",
       "      <th>path</th>\n",
       "      <th>gender</th>\n",
       "      <th>number</th>\n",
       "    </tr>\n",
       "  </thead>\n",
       "  <tbody>\n",
       "    <tr>\n",
       "      <th>0</th>\n",
       "      <td>train/e332b996d3.wav</td>\n",
       "      <td>female</td>\n",
       "      <td>157105.0</td>\n",
       "    </tr>\n",
       "    <tr>\n",
       "      <th>1</th>\n",
       "      <td>train/e25afda49a.wav</td>\n",
       "      <td>female</td>\n",
       "      <td>374554.0</td>\n",
       "    </tr>\n",
       "    <tr>\n",
       "      <th>2</th>\n",
       "      <td>train/364f147340.wav</td>\n",
       "      <td>male</td>\n",
       "      <td>688694.0</td>\n",
       "    </tr>\n",
       "    <tr>\n",
       "      <th>3</th>\n",
       "      <td>train/5e0954b206.wav</td>\n",
       "      <td>female</td>\n",
       "      <td>265381.0</td>\n",
       "    </tr>\n",
       "    <tr>\n",
       "      <th>4</th>\n",
       "      <td>train/7130a67690.wav</td>\n",
       "      <td>male</td>\n",
       "      <td>955415.0</td>\n",
       "    </tr>\n",
       "  </tbody>\n",
       "</table>\n",
       "</div>"
      ],
      "text/plain": [
       "                   path  gender    number\n",
       "0  train/e332b996d3.wav  female  157105.0\n",
       "1  train/e25afda49a.wav  female  374554.0\n",
       "2  train/364f147340.wav    male  688694.0\n",
       "3  train/5e0954b206.wav  female  265381.0\n",
       "4  train/7130a67690.wav    male  955415.0"
      ]
     },
     "execution_count": 5,
     "metadata": {},
     "output_type": "execute_result"
    }
   ],
   "source": [
    "data.head()"
   ]
  },
  {
   "cell_type": "code",
   "execution_count": 6,
   "id": "f96572b0",
   "metadata": {},
   "outputs": [],
   "source": [
    "data['path'] = 'numbers2/' + data['path']"
   ]
  },
  {
   "cell_type": "code",
   "execution_count": 7,
   "id": "c2fa516b",
   "metadata": {},
   "outputs": [
    {
     "data": {
      "text/html": [
       "\n",
       "                    <audio controls>\n",
       "                        <source src=\"data:audio/mpeg;base64,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\" type=\"audio/mpeg\"/>\n",
       "                        Your browser does not support the audio element.\n",
       "                    </audio>\n",
       "                  "
      ],
      "text/plain": [
       "<pydub.audio_segment.AudioSegment at 0x7f58d886ea60>"
      ]
     },
     "execution_count": 7,
     "metadata": {},
     "output_type": "execute_result"
    }
   ],
   "source": [
    "AudioSegment.from_wav(data['path'][200])"
   ]
  },
  {
   "cell_type": "code",
   "execution_count": 8,
   "id": "93997639",
   "metadata": {},
   "outputs": [
    {
     "data": {
      "text/plain": [
       "'numbers2/train/99dee92960.wav'"
      ]
     },
     "execution_count": 8,
     "metadata": {},
     "output_type": "execute_result"
    }
   ],
   "source": [
    "data['path'][200]"
   ]
  },
  {
   "cell_type": "code",
   "execution_count": 9,
   "id": "97c5489d",
   "metadata": {},
   "outputs": [
    {
     "name": "stdout",
     "output_type": "stream",
     "text": [
      "ffmpeg version 4.2.4-1ubuntu0.1 Copyright (c) 2000-2020 the FFmpeg developers\r\n",
      "  built with gcc 9 (Ubuntu 9.3.0-10ubuntu2)\r\n",
      "  configuration: --prefix=/usr --extra-version=1ubuntu0.1 --toolchain=hardened --libdir=/usr/lib/x86_64-linux-gnu --incdir=/usr/include/x86_64-linux-gnu --arch=amd64 --enable-gpl --disable-stripping --enable-avresample --disable-filter=resample --enable-avisynth --enable-gnutls --enable-ladspa --enable-libaom --enable-libass --enable-libbluray --enable-libbs2b --enable-libcaca --enable-libcdio --enable-libcodec2 --enable-libflite --enable-libfontconfig --enable-libfreetype --enable-libfribidi --enable-libgme --enable-libgsm --enable-libjack --enable-libmp3lame --enable-libmysofa --enable-libopenjpeg --enable-libopenmpt --enable-libopus --enable-libpulse --enable-librsvg --enable-librubberband --enable-libshine --enable-libsnappy --enable-libsoxr --enable-libspeex --enable-libssh --enable-libtheora --enable-libtwolame --enable-libvidstab --enable-libvorbis --enable-libvpx --enable-libwavpack --enable-libwebp --enable-libx265 --enable-libxml2 --enable-libxvid --enable-libzmq --enable-libzvbi --enable-lv2 --enable-omx --enable-openal --enable-opencl --enable-opengl --enable-sdl2 --enable-libdc1394 --enable-libdrm --enable-libiec61883 --enable-nvenc --enable-chromaprint --enable-frei0r --enable-libx264 --enable-shared\r\n",
      "  libavutil      56. 31.100 / 56. 31.100\r\n",
      "  libavcodec     58. 54.100 / 58. 54.100\r\n",
      "  libavformat    58. 29.100 / 58. 29.100\r\n",
      "  libavdevice    58.  8.100 / 58.  8.100\r\n",
      "  libavfilter     7. 57.100 /  7. 57.100\r\n",
      "  libavresample   4.  0.  0 /  4.  0.  0\r\n",
      "  libswscale      5.  5.100 /  5.  5.100\r\n",
      "  libswresample   3.  5.100 /  3.  5.100\r\n",
      "  libpostproc    55.  5.100 / 55.  5.100\r\n",
      "\u001b[0;33mGuessed Channel Layout for Input Stream #0.0 : mono\r\n",
      "\u001b[0mInput #0, wav, from 'numbers2/train/99dee92960.wav':\r\n",
      "  Duration: 00:00:03.33, bitrate: 256 kb/s\r\n",
      "    Stream #0:0: Audio: pcm_s16le ([1][0][0][0] / 0x0001), 16000 Hz, mono, s16, 256 kb/s\r\n",
      "\u001b[4;31mAt least one output file must be specified\r\n",
      "\u001b[0m"
     ]
    }
   ],
   "source": [
    "!ffmpeg -i numbers2/train/99dee92960.wav"
   ]
  },
  {
   "cell_type": "code",
   "execution_count": 10,
   "id": "a794e765",
   "metadata": {},
   "outputs": [],
   "source": [
    "labeled_data = data.iloc[:3000]"
   ]
  },
  {
   "cell_type": "code",
   "execution_count": 11,
   "id": "1589e418",
   "metadata": {},
   "outputs": [],
   "source": [
    "# labeled_data['number'] = labeled_data['number'].apply(lambda x: str(x)[:-2])"
   ]
  },
  {
   "cell_type": "code",
   "execution_count": 12,
   "id": "ec6531ad",
   "metadata": {},
   "outputs": [
    {
     "data": {
      "text/html": [
       "<div>\n",
       "<style scoped>\n",
       "    .dataframe tbody tr th:only-of-type {\n",
       "        vertical-align: middle;\n",
       "    }\n",
       "\n",
       "    .dataframe tbody tr th {\n",
       "        vertical-align: top;\n",
       "    }\n",
       "\n",
       "    .dataframe thead th {\n",
       "        text-align: right;\n",
       "    }\n",
       "</style>\n",
       "<table border=\"1\" class=\"dataframe\">\n",
       "  <thead>\n",
       "    <tr style=\"text-align: right;\">\n",
       "      <th></th>\n",
       "      <th>path</th>\n",
       "      <th>gender</th>\n",
       "      <th>number</th>\n",
       "    </tr>\n",
       "  </thead>\n",
       "  <tbody>\n",
       "    <tr>\n",
       "      <th>0</th>\n",
       "      <td>numbers2/train/e332b996d3.wav</td>\n",
       "      <td>female</td>\n",
       "      <td>157105.0</td>\n",
       "    </tr>\n",
       "    <tr>\n",
       "      <th>1</th>\n",
       "      <td>numbers2/train/e25afda49a.wav</td>\n",
       "      <td>female</td>\n",
       "      <td>374554.0</td>\n",
       "    </tr>\n",
       "    <tr>\n",
       "      <th>2</th>\n",
       "      <td>numbers2/train/364f147340.wav</td>\n",
       "      <td>male</td>\n",
       "      <td>688694.0</td>\n",
       "    </tr>\n",
       "    <tr>\n",
       "      <th>3</th>\n",
       "      <td>numbers2/train/5e0954b206.wav</td>\n",
       "      <td>female</td>\n",
       "      <td>265381.0</td>\n",
       "    </tr>\n",
       "    <tr>\n",
       "      <th>4</th>\n",
       "      <td>numbers2/train/7130a67690.wav</td>\n",
       "      <td>male</td>\n",
       "      <td>955415.0</td>\n",
       "    </tr>\n",
       "  </tbody>\n",
       "</table>\n",
       "</div>"
      ],
      "text/plain": [
       "                            path  gender    number\n",
       "0  numbers2/train/e332b996d3.wav  female  157105.0\n",
       "1  numbers2/train/e25afda49a.wav  female  374554.0\n",
       "2  numbers2/train/364f147340.wav    male  688694.0\n",
       "3  numbers2/train/5e0954b206.wav  female  265381.0\n",
       "4  numbers2/train/7130a67690.wav    male  955415.0"
      ]
     },
     "execution_count": 12,
     "metadata": {},
     "output_type": "execute_result"
    }
   ],
   "source": [
    "labeled_data.head()"
   ]
  },
  {
   "cell_type": "code",
   "execution_count": 13,
   "id": "747b3473",
   "metadata": {},
   "outputs": [
    {
     "name": "stderr",
     "output_type": "stream",
     "text": [
      "/tmp/ipykernel_12979/2227669768.py:1: SettingWithCopyWarning: \n",
      "A value is trying to be set on a copy of a slice from a DataFrame.\n",
      "Try using .loc[row_indexer,col_indexer] = value instead\n",
      "\n",
      "See the caveats in the documentation: https://pandas.pydata.org/pandas-docs/stable/user_guide/indexing.html#returning-a-view-versus-a-copy\n",
      "  labeled_data['str_number'] = labeled_data['number'].apply(lambda x: num2words(int(x), lang='ru'))\n"
     ]
    }
   ],
   "source": [
    "labeled_data['str_number'] = labeled_data['number'].apply(lambda x: num2words(int(x), lang='ru'))"
   ]
  },
  {
   "cell_type": "code",
   "execution_count": 14,
   "id": "abda724d",
   "metadata": {},
   "outputs": [
    {
     "data": {
      "text/html": [
       "<div>\n",
       "<style scoped>\n",
       "    .dataframe tbody tr th:only-of-type {\n",
       "        vertical-align: middle;\n",
       "    }\n",
       "\n",
       "    .dataframe tbody tr th {\n",
       "        vertical-align: top;\n",
       "    }\n",
       "\n",
       "    .dataframe thead th {\n",
       "        text-align: right;\n",
       "    }\n",
       "</style>\n",
       "<table border=\"1\" class=\"dataframe\">\n",
       "  <thead>\n",
       "    <tr style=\"text-align: right;\">\n",
       "      <th></th>\n",
       "      <th>path</th>\n",
       "      <th>gender</th>\n",
       "      <th>number</th>\n",
       "      <th>str_number</th>\n",
       "    </tr>\n",
       "  </thead>\n",
       "  <tbody>\n",
       "    <tr>\n",
       "      <th>0</th>\n",
       "      <td>numbers2/train/e332b996d3.wav</td>\n",
       "      <td>female</td>\n",
       "      <td>157105.0</td>\n",
       "      <td>сто пятьдесят семь тысяч сто пять</td>\n",
       "    </tr>\n",
       "    <tr>\n",
       "      <th>1</th>\n",
       "      <td>numbers2/train/e25afda49a.wav</td>\n",
       "      <td>female</td>\n",
       "      <td>374554.0</td>\n",
       "      <td>триста семьдесят четыре тысячи пятьсот пятьдес...</td>\n",
       "    </tr>\n",
       "    <tr>\n",
       "      <th>2</th>\n",
       "      <td>numbers2/train/364f147340.wav</td>\n",
       "      <td>male</td>\n",
       "      <td>688694.0</td>\n",
       "      <td>шестьсот восемьдесят восемь тысяч шестьсот дев...</td>\n",
       "    </tr>\n",
       "    <tr>\n",
       "      <th>3</th>\n",
       "      <td>numbers2/train/5e0954b206.wav</td>\n",
       "      <td>female</td>\n",
       "      <td>265381.0</td>\n",
       "      <td>двести шестьдесят пять тысяч триста восемьдеся...</td>\n",
       "    </tr>\n",
       "    <tr>\n",
       "      <th>4</th>\n",
       "      <td>numbers2/train/7130a67690.wav</td>\n",
       "      <td>male</td>\n",
       "      <td>955415.0</td>\n",
       "      <td>девятьсот пятьдесят пять тысяч четыреста пятна...</td>\n",
       "    </tr>\n",
       "    <tr>\n",
       "      <th>...</th>\n",
       "      <td>...</td>\n",
       "      <td>...</td>\n",
       "      <td>...</td>\n",
       "      <td>...</td>\n",
       "    </tr>\n",
       "    <tr>\n",
       "      <th>2995</th>\n",
       "      <td>numbers2/train/1c7676d4ec.wav</td>\n",
       "      <td>female</td>\n",
       "      <td>315305.0</td>\n",
       "      <td>триста пятнадцать тысяч триста пять</td>\n",
       "    </tr>\n",
       "    <tr>\n",
       "      <th>2996</th>\n",
       "      <td>numbers2/train/07d31d4913.wav</td>\n",
       "      <td>female</td>\n",
       "      <td>726822.0</td>\n",
       "      <td>семьсот двадцать шесть тысяч восемьсот двадцат...</td>\n",
       "    </tr>\n",
       "    <tr>\n",
       "      <th>2997</th>\n",
       "      <td>numbers2/train/db3268309f.wav</td>\n",
       "      <td>male</td>\n",
       "      <td>872553.0</td>\n",
       "      <td>восемьсот семьдесят две тысячи пятьсот пятьдес...</td>\n",
       "    </tr>\n",
       "    <tr>\n",
       "      <th>2998</th>\n",
       "      <td>numbers2/train/32a71e0375.wav</td>\n",
       "      <td>female</td>\n",
       "      <td>754212.0</td>\n",
       "      <td>семьсот пятьдесят четыре тысячи двести двенадцать</td>\n",
       "    </tr>\n",
       "    <tr>\n",
       "      <th>2999</th>\n",
       "      <td>numbers2/train/fce518e93c.wav</td>\n",
       "      <td>female</td>\n",
       "      <td>647555.0</td>\n",
       "      <td>шестьсот сорок семь тысяч пятьсот пятьдесят пять</td>\n",
       "    </tr>\n",
       "  </tbody>\n",
       "</table>\n",
       "<p>3000 rows × 4 columns</p>\n",
       "</div>"
      ],
      "text/plain": [
       "                               path  gender    number  \\\n",
       "0     numbers2/train/e332b996d3.wav  female  157105.0   \n",
       "1     numbers2/train/e25afda49a.wav  female  374554.0   \n",
       "2     numbers2/train/364f147340.wav    male  688694.0   \n",
       "3     numbers2/train/5e0954b206.wav  female  265381.0   \n",
       "4     numbers2/train/7130a67690.wav    male  955415.0   \n",
       "...                             ...     ...       ...   \n",
       "2995  numbers2/train/1c7676d4ec.wav  female  315305.0   \n",
       "2996  numbers2/train/07d31d4913.wav  female  726822.0   \n",
       "2997  numbers2/train/db3268309f.wav    male  872553.0   \n",
       "2998  numbers2/train/32a71e0375.wav  female  754212.0   \n",
       "2999  numbers2/train/fce518e93c.wav  female  647555.0   \n",
       "\n",
       "                                             str_number  \n",
       "0                     сто пятьдесят семь тысяч сто пять  \n",
       "1     триста семьдесят четыре тысячи пятьсот пятьдес...  \n",
       "2     шестьсот восемьдесят восемь тысяч шестьсот дев...  \n",
       "3     двести шестьдесят пять тысяч триста восемьдеся...  \n",
       "4     девятьсот пятьдесят пять тысяч четыреста пятна...  \n",
       "...                                                 ...  \n",
       "2995                триста пятнадцать тысяч триста пять  \n",
       "2996  семьсот двадцать шесть тысяч восемьсот двадцат...  \n",
       "2997  восемьсот семьдесят две тысячи пятьсот пятьдес...  \n",
       "2998  семьсот пятьдесят четыре тысячи двести двенадцать  \n",
       "2999   шестьсот сорок семь тысяч пятьсот пятьдесят пять  \n",
       "\n",
       "[3000 rows x 4 columns]"
      ]
     },
     "execution_count": 14,
     "metadata": {},
     "output_type": "execute_result"
    }
   ],
   "source": [
    "labeled_data"
   ]
  },
  {
   "cell_type": "code",
   "execution_count": 15,
   "id": "3ced5235",
   "metadata": {},
   "outputs": [
    {
     "name": "stderr",
     "output_type": "stream",
     "text": [
      "/tmp/ipykernel_12979/4087606259.py:2: SettingWithCopyWarning: \n",
      "A value is trying to be set on a copy of a slice from a DataFrame.\n",
      "Try using .loc[row_indexer,col_indexer] = value instead\n",
      "\n",
      "See the caveats in the documentation: https://pandas.pydata.org/pandas-docs/stable/user_guide/indexing.html#returning-a-view-versus-a-copy\n",
      "  labeled_data['arrays'] = labeled_data['str_number'].apply(lambda x: x.split(' '))\n"
     ]
    }
   ],
   "source": [
    "dict_array = []\n",
    "labeled_data['arrays'] = labeled_data['str_number'].apply(lambda x: x.split(' '))\n",
    "for i in labeled_data['arrays']:\n",
    "    for j in i:\n",
    "        if j not in dict_array:\n",
    "            dict_array.append(j)"
   ]
  },
  {
   "cell_type": "code",
   "execution_count": 16,
   "id": "5e1f66a0",
   "metadata": {},
   "outputs": [],
   "source": [
    "text_numbers = []\n",
    "for i in range(1000001):\n",
    "    text = num2words(i, lang='ru')\n",
    "    text = text.split(' ')\n",
    "    for j in text:\n",
    "        text_numbers.append(j)"
   ]
  },
  {
   "cell_type": "code",
   "execution_count": 17,
   "id": "49e84a83",
   "metadata": {},
   "outputs": [],
   "source": [
    "text_numbers = set(text_numbers)"
   ]
  },
  {
   "cell_type": "code",
   "execution_count": 18,
   "id": "94825985",
   "metadata": {},
   "outputs": [
    {
     "data": {
      "text/plain": [
       "{'миллион', 'ноль'}"
      ]
     },
     "execution_count": 18,
     "metadata": {},
     "output_type": "execute_result"
    }
   ],
   "source": [
    "### The following labels are missing from the training set\n",
    "### We need to generate samples with these words\n",
    "set(text_numbers) - set(dict_array)"
   ]
  },
  {
   "cell_type": "code",
   "execution_count": 19,
   "id": "2ba641a1",
   "metadata": {},
   "outputs": [
    {
     "data": {
      "text/html": [
       "<div>\n",
       "<style scoped>\n",
       "    .dataframe tbody tr th:only-of-type {\n",
       "        vertical-align: middle;\n",
       "    }\n",
       "\n",
       "    .dataframe tbody tr th {\n",
       "        vertical-align: top;\n",
       "    }\n",
       "\n",
       "    .dataframe thead th {\n",
       "        text-align: right;\n",
       "    }\n",
       "</style>\n",
       "<table border=\"1\" class=\"dataframe\">\n",
       "  <thead>\n",
       "    <tr style=\"text-align: right;\">\n",
       "      <th></th>\n",
       "      <th>path</th>\n",
       "      <th>gender</th>\n",
       "      <th>number</th>\n",
       "      <th>str_number</th>\n",
       "      <th>arrays</th>\n",
       "    </tr>\n",
       "  </thead>\n",
       "  <tbody>\n",
       "    <tr>\n",
       "      <th>0</th>\n",
       "      <td>numbers2/train/e332b996d3.wav</td>\n",
       "      <td>female</td>\n",
       "      <td>157105.0</td>\n",
       "      <td>сто пятьдесят семь тысяч сто пять</td>\n",
       "      <td>[сто, пятьдесят, семь, тысяч, сто, пять]</td>\n",
       "    </tr>\n",
       "    <tr>\n",
       "      <th>1</th>\n",
       "      <td>numbers2/train/e25afda49a.wav</td>\n",
       "      <td>female</td>\n",
       "      <td>374554.0</td>\n",
       "      <td>триста семьдесят четыре тысячи пятьсот пятьдес...</td>\n",
       "      <td>[триста, семьдесят, четыре, тысячи, пятьсот, п...</td>\n",
       "    </tr>\n",
       "    <tr>\n",
       "      <th>2</th>\n",
       "      <td>numbers2/train/364f147340.wav</td>\n",
       "      <td>male</td>\n",
       "      <td>688694.0</td>\n",
       "      <td>шестьсот восемьдесят восемь тысяч шестьсот дев...</td>\n",
       "      <td>[шестьсот, восемьдесят, восемь, тысяч, шестьсо...</td>\n",
       "    </tr>\n",
       "    <tr>\n",
       "      <th>3</th>\n",
       "      <td>numbers2/train/5e0954b206.wav</td>\n",
       "      <td>female</td>\n",
       "      <td>265381.0</td>\n",
       "      <td>двести шестьдесят пять тысяч триста восемьдеся...</td>\n",
       "      <td>[двести, шестьдесят, пять, тысяч, триста, восе...</td>\n",
       "    </tr>\n",
       "    <tr>\n",
       "      <th>4</th>\n",
       "      <td>numbers2/train/7130a67690.wav</td>\n",
       "      <td>male</td>\n",
       "      <td>955415.0</td>\n",
       "      <td>девятьсот пятьдесят пять тысяч четыреста пятна...</td>\n",
       "      <td>[девятьсот, пятьдесят, пять, тысяч, четыреста,...</td>\n",
       "    </tr>\n",
       "  </tbody>\n",
       "</table>\n",
       "</div>"
      ],
      "text/plain": [
       "                            path  gender    number  \\\n",
       "0  numbers2/train/e332b996d3.wav  female  157105.0   \n",
       "1  numbers2/train/e25afda49a.wav  female  374554.0   \n",
       "2  numbers2/train/364f147340.wav    male  688694.0   \n",
       "3  numbers2/train/5e0954b206.wav  female  265381.0   \n",
       "4  numbers2/train/7130a67690.wav    male  955415.0   \n",
       "\n",
       "                                          str_number  \\\n",
       "0                  сто пятьдесят семь тысяч сто пять   \n",
       "1  триста семьдесят четыре тысячи пятьсот пятьдес...   \n",
       "2  шестьсот восемьдесят восемь тысяч шестьсот дев...   \n",
       "3  двести шестьдесят пять тысяч триста восемьдеся...   \n",
       "4  девятьсот пятьдесят пять тысяч четыреста пятна...   \n",
       "\n",
       "                                              arrays  \n",
       "0           [сто, пятьдесят, семь, тысяч, сто, пять]  \n",
       "1  [триста, семьдесят, четыре, тысячи, пятьсот, п...  \n",
       "2  [шестьсот, восемьдесят, восемь, тысяч, шестьсо...  \n",
       "3  [двести, шестьдесят, пять, тысяч, триста, восе...  \n",
       "4  [девятьсот, пятьдесят, пять, тысяч, четыреста,...  "
      ]
     },
     "execution_count": 19,
     "metadata": {},
     "output_type": "execute_result"
    }
   ],
   "source": [
    "labeled_data.head()"
   ]
  },
  {
   "cell_type": "code",
   "execution_count": 20,
   "id": "bc6e5cc4",
   "metadata": {},
   "outputs": [],
   "source": [
    "def convert_and_getDur(x):\n",
    "    sound = AudioSegment.from_file(x)\n",
    "    sound = sound.set_frame_rate(16000)\n",
    "    sound = sound.set_channels(1)\n",
    "    sound.export(x, format=\"wav\")\n",
    "    return len(sound)/1000"
   ]
  },
  {
   "cell_type": "code",
   "execution_count": 21,
   "id": "45a8206f",
   "metadata": {},
   "outputs": [
    {
     "name": "stderr",
     "output_type": "stream",
     "text": [
      "/tmp/ipykernel_12979/594879392.py:1: SettingWithCopyWarning: \n",
      "A value is trying to be set on a copy of a slice from a DataFrame.\n",
      "Try using .loc[row_indexer,col_indexer] = value instead\n",
      "\n",
      "See the caveats in the documentation: https://pandas.pydata.org/pandas-docs/stable/user_guide/indexing.html#returning-a-view-versus-a-copy\n",
      "  labeled_data['duration'] = labeled_data['path'].apply(convert_and_getDur)\n"
     ]
    }
   ],
   "source": [
    "labeled_data['duration'] = labeled_data['path'].apply(convert_and_getDur)"
   ]
  },
  {
   "cell_type": "code",
   "execution_count": 22,
   "id": "2dbbe3ff",
   "metadata": {},
   "outputs": [
    {
     "name": "stderr",
     "output_type": "stream",
     "text": [
      "/opt/conda/lib/python3.8/site-packages/pandas/core/frame.py:4906: SettingWithCopyWarning: \n",
      "A value is trying to be set on a copy of a slice from a DataFrame\n",
      "\n",
      "See the caveats in the documentation: https://pandas.pydata.org/pandas-docs/stable/user_guide/indexing.html#returning-a-view-versus-a-copy\n",
      "  return super().drop(\n"
     ]
    }
   ],
   "source": [
    "labeled_data.drop(['gender', 'number', 'arrays'], axis=1, inplace=True)"
   ]
  },
  {
   "cell_type": "code",
   "execution_count": 23,
   "id": "52847926",
   "metadata": {},
   "outputs": [],
   "source": [
    "labeled_data = labeled_data.reindex(columns=['path', \n",
    "                                             'duration', \n",
    "                                             'str_number']).rename(columns={'str_number':'text',\n",
    "                                                                            'path': 'audio_filepath'})"
   ]
  },
  {
   "cell_type": "code",
   "execution_count": 24,
   "id": "c19fa169",
   "metadata": {},
   "outputs": [
    {
     "data": {
      "text/html": [
       "<div>\n",
       "<style scoped>\n",
       "    .dataframe tbody tr th:only-of-type {\n",
       "        vertical-align: middle;\n",
       "    }\n",
       "\n",
       "    .dataframe tbody tr th {\n",
       "        vertical-align: top;\n",
       "    }\n",
       "\n",
       "    .dataframe thead th {\n",
       "        text-align: right;\n",
       "    }\n",
       "</style>\n",
       "<table border=\"1\" class=\"dataframe\">\n",
       "  <thead>\n",
       "    <tr style=\"text-align: right;\">\n",
       "      <th></th>\n",
       "      <th>audio_filepath</th>\n",
       "      <th>duration</th>\n",
       "      <th>text</th>\n",
       "    </tr>\n",
       "  </thead>\n",
       "  <tbody>\n",
       "    <tr>\n",
       "      <th>0</th>\n",
       "      <td>numbers2/train/e332b996d3.wav</td>\n",
       "      <td>2.372</td>\n",
       "      <td>сто пятьдесят семь тысяч сто пять</td>\n",
       "    </tr>\n",
       "    <tr>\n",
       "      <th>1</th>\n",
       "      <td>numbers2/train/e25afda49a.wav</td>\n",
       "      <td>3.361</td>\n",
       "      <td>триста семьдесят четыре тысячи пятьсот пятьдес...</td>\n",
       "    </tr>\n",
       "    <tr>\n",
       "      <th>2</th>\n",
       "      <td>numbers2/train/364f147340.wav</td>\n",
       "      <td>3.534</td>\n",
       "      <td>шестьсот восемьдесят восемь тысяч шестьсот дев...</td>\n",
       "    </tr>\n",
       "    <tr>\n",
       "      <th>3</th>\n",
       "      <td>numbers2/train/5e0954b206.wav</td>\n",
       "      <td>3.358</td>\n",
       "      <td>двести шестьдесят пять тысяч триста восемьдеся...</td>\n",
       "    </tr>\n",
       "    <tr>\n",
       "      <th>4</th>\n",
       "      <td>numbers2/train/7130a67690.wav</td>\n",
       "      <td>3.040</td>\n",
       "      <td>девятьсот пятьдесят пять тысяч четыреста пятна...</td>\n",
       "    </tr>\n",
       "  </tbody>\n",
       "</table>\n",
       "</div>"
      ],
      "text/plain": [
       "                  audio_filepath  duration  \\\n",
       "0  numbers2/train/e332b996d3.wav     2.372   \n",
       "1  numbers2/train/e25afda49a.wav     3.361   \n",
       "2  numbers2/train/364f147340.wav     3.534   \n",
       "3  numbers2/train/5e0954b206.wav     3.358   \n",
       "4  numbers2/train/7130a67690.wav     3.040   \n",
       "\n",
       "                                                text  \n",
       "0                  сто пятьдесят семь тысяч сто пять  \n",
       "1  триста семьдесят четыре тысячи пятьсот пятьдес...  \n",
       "2  шестьсот восемьдесят восемь тысяч шестьсот дев...  \n",
       "3  двести шестьдесят пять тысяч триста восемьдеся...  \n",
       "4  девятьсот пятьдесят пять тысяч четыреста пятна...  "
      ]
     },
     "execution_count": 24,
     "metadata": {},
     "output_type": "execute_result"
    }
   ],
   "source": [
    "labeled_data.head()"
   ]
  },
  {
   "cell_type": "code",
   "execution_count": 30,
   "id": "a041591a",
   "metadata": {},
   "outputs": [],
   "source": [
    "# train_manifest_file = 'train_data.json'\n",
    "# with open(train_manifest_file, 'w') as fout:\n",
    "#     for i in range(len(labeled_data)):\n",
    "#         metadata = {\n",
    "#                     \"audio_filepath\": labeled_data['audio_filepath'][i],\n",
    "#                     \"duration\": labeled_data['duration'][i],\n",
    "#                     \"text\": labeled_data['text'][i]\n",
    "#                 }\n",
    "#         json.dump(metadata, fout)\n",
    "#         fout.write('\\n')"
   ]
  },
  {
   "cell_type": "markdown",
   "id": "45db6bac",
   "metadata": {},
   "source": [
    "## Generation and augmentation of data\n",
    "\n",
    "### To generate data, we will use the Silero\n",
    "#### Here I used an internal speech synthesis model with missing words"
   ]
  },
  {
   "cell_type": "code",
   "execution_count": 52,
   "id": "10022354",
   "metadata": {},
   "outputs": [
    {
     "data": {
      "text/html": [
       "<div>\n",
       "<style scoped>\n",
       "    .dataframe tbody tr th:only-of-type {\n",
       "        vertical-align: middle;\n",
       "    }\n",
       "\n",
       "    .dataframe tbody tr th {\n",
       "        vertical-align: top;\n",
       "    }\n",
       "\n",
       "    .dataframe thead th {\n",
       "        text-align: right;\n",
       "    }\n",
       "</style>\n",
       "<table border=\"1\" class=\"dataframe\">\n",
       "  <thead>\n",
       "    <tr style=\"text-align: right;\">\n",
       "      <th></th>\n",
       "      <th>audio_filepath</th>\n",
       "      <th>text</th>\n",
       "    </tr>\n",
       "  </thead>\n",
       "  <tbody>\n",
       "    <tr>\n",
       "      <th>0</th>\n",
       "      <td>synthesis/synthesis_0.wav</td>\n",
       "      <td>ноль миллион два триста.</td>\n",
       "    </tr>\n",
       "    <tr>\n",
       "      <th>1</th>\n",
       "      <td>synthesis/synthesis_1.wav</td>\n",
       "      <td>ноль миллион триста два.</td>\n",
       "    </tr>\n",
       "    <tr>\n",
       "      <th>2</th>\n",
       "      <td>synthesis/synthesis_2.wav</td>\n",
       "      <td>ноль два миллион триста.</td>\n",
       "    </tr>\n",
       "    <tr>\n",
       "      <th>3</th>\n",
       "      <td>synthesis/synthesis_3.wav</td>\n",
       "      <td>ноль два триста миллион.</td>\n",
       "    </tr>\n",
       "    <tr>\n",
       "      <th>4</th>\n",
       "      <td>synthesis/synthesis_4.wav</td>\n",
       "      <td>ноль триста миллион два.</td>\n",
       "    </tr>\n",
       "  </tbody>\n",
       "</table>\n",
       "</div>"
      ],
      "text/plain": [
       "              audio_filepath                      text\n",
       "0  synthesis/synthesis_0.wav  ноль миллион два триста.\n",
       "1  synthesis/synthesis_1.wav  ноль миллион триста два.\n",
       "2  synthesis/synthesis_2.wav  ноль два миллион триста.\n",
       "3  synthesis/synthesis_3.wav  ноль два триста миллион.\n",
       "4  synthesis/synthesis_4.wav  ноль триста миллион два."
      ]
     },
     "execution_count": 52,
     "metadata": {},
     "output_type": "execute_result"
    }
   ],
   "source": [
    "data_synth = pd.DataFrame(data = data_synth)\n",
    "data_synth.head()"
   ]
  },
  {
   "cell_type": "code",
   "execution_count": 55,
   "id": "8da9ad9a",
   "metadata": {},
   "outputs": [
    {
     "data": {
      "text/html": [
       "\n",
       "                    <audio controls>\n",
       "                        <source src=\"data:audio/mpeg;base64,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\" type=\"audio/mpeg\"/>\n",
       "                        Your browser does not support the audio element.\n",
       "                    </audio>\n",
       "                  "
      ],
      "text/plain": [
       "<pydub.audio_segment.AudioSegment at 0x7f58ccaa3760>"
      ]
     },
     "execution_count": 55,
     "metadata": {},
     "output_type": "execute_result"
    }
   ],
   "source": [
    "AudioSegment.from_wav(data_synth['audio_filepath'][2])"
   ]
  },
  {
   "cell_type": "code",
   "execution_count": 58,
   "id": "e6eb0b21",
   "metadata": {},
   "outputs": [],
   "source": [
    "data_synth['duration'] = data_synth['audio_filepath'].apply(convert_and_getDur)\n",
    "data_synth = data_synth.reindex(columns=['audio_filepath', \n",
    "                                             'duration', \n",
    "                                             'text'])"
   ]
  },
  {
   "cell_type": "code",
   "execution_count": 66,
   "id": "a4cf5e1d",
   "metadata": {},
   "outputs": [
    {
     "data": {
      "text/html": [
       "<div>\n",
       "<style scoped>\n",
       "    .dataframe tbody tr th:only-of-type {\n",
       "        vertical-align: middle;\n",
       "    }\n",
       "\n",
       "    .dataframe tbody tr th {\n",
       "        vertical-align: top;\n",
       "    }\n",
       "\n",
       "    .dataframe thead th {\n",
       "        text-align: right;\n",
       "    }\n",
       "</style>\n",
       "<table border=\"1\" class=\"dataframe\">\n",
       "  <thead>\n",
       "    <tr style=\"text-align: right;\">\n",
       "      <th></th>\n",
       "      <th>audio_filepath</th>\n",
       "      <th>duration</th>\n",
       "      <th>text</th>\n",
       "    </tr>\n",
       "  </thead>\n",
       "  <tbody>\n",
       "    <tr>\n",
       "      <th>0</th>\n",
       "      <td>synthesis/synthesis_0.wav</td>\n",
       "      <td>1.821</td>\n",
       "      <td>ноль миллион два триста</td>\n",
       "    </tr>\n",
       "    <tr>\n",
       "      <th>1</th>\n",
       "      <td>synthesis/synthesis_1.wav</td>\n",
       "      <td>1.809</td>\n",
       "      <td>ноль миллион триста два</td>\n",
       "    </tr>\n",
       "    <tr>\n",
       "      <th>2</th>\n",
       "      <td>synthesis/synthesis_2.wav</td>\n",
       "      <td>1.844</td>\n",
       "      <td>ноль два миллион триста</td>\n",
       "    </tr>\n",
       "    <tr>\n",
       "      <th>3</th>\n",
       "      <td>synthesis/synthesis_3.wav</td>\n",
       "      <td>1.763</td>\n",
       "      <td>ноль два триста миллион</td>\n",
       "    </tr>\n",
       "    <tr>\n",
       "      <th>4</th>\n",
       "      <td>synthesis/synthesis_4.wav</td>\n",
       "      <td>1.774</td>\n",
       "      <td>ноль триста миллион два</td>\n",
       "    </tr>\n",
       "  </tbody>\n",
       "</table>\n",
       "</div>"
      ],
      "text/plain": [
       "              audio_filepath  duration                     text\n",
       "0  synthesis/synthesis_0.wav     1.821  ноль миллион два триста\n",
       "1  synthesis/synthesis_1.wav     1.809  ноль миллион триста два\n",
       "2  synthesis/synthesis_2.wav     1.844  ноль два миллион триста\n",
       "3  synthesis/synthesis_3.wav     1.763  ноль два триста миллион\n",
       "4  synthesis/synthesis_4.wav     1.774  ноль триста миллион два"
      ]
     },
     "execution_count": 66,
     "metadata": {},
     "output_type": "execute_result"
    }
   ],
   "source": [
    "data_synth['text'] = data_synth['text'].apply(lambda x: x[:-1])\n",
    "data_synth.head()"
   ]
  },
  {
   "cell_type": "code",
   "execution_count": 72,
   "id": "ba000d2e",
   "metadata": {},
   "outputs": [],
   "source": [
    "data_with_missing_words = pd.concat([labeled_data, data_synth]).reset_index(drop=True)"
   ]
  },
  {
   "cell_type": "code",
   "execution_count": 75,
   "id": "e17750fd",
   "metadata": {},
   "outputs": [
    {
     "data": {
      "text/html": [
       "<div>\n",
       "<style scoped>\n",
       "    .dataframe tbody tr th:only-of-type {\n",
       "        vertical-align: middle;\n",
       "    }\n",
       "\n",
       "    .dataframe tbody tr th {\n",
       "        vertical-align: top;\n",
       "    }\n",
       "\n",
       "    .dataframe thead th {\n",
       "        text-align: right;\n",
       "    }\n",
       "</style>\n",
       "<table border=\"1\" class=\"dataframe\">\n",
       "  <thead>\n",
       "    <tr style=\"text-align: right;\">\n",
       "      <th></th>\n",
       "      <th>audio_filepath</th>\n",
       "      <th>duration</th>\n",
       "      <th>text</th>\n",
       "    </tr>\n",
       "  </thead>\n",
       "  <tbody>\n",
       "    <tr>\n",
       "      <th>0</th>\n",
       "      <td>numbers2/train/e332b996d3.wav</td>\n",
       "      <td>2.372</td>\n",
       "      <td>сто пятьдесят семь тысяч сто пять</td>\n",
       "    </tr>\n",
       "    <tr>\n",
       "      <th>1</th>\n",
       "      <td>numbers2/train/e25afda49a.wav</td>\n",
       "      <td>3.361</td>\n",
       "      <td>триста семьдесят четыре тысячи пятьсот пятьдес...</td>\n",
       "    </tr>\n",
       "    <tr>\n",
       "      <th>2</th>\n",
       "      <td>numbers2/train/364f147340.wav</td>\n",
       "      <td>3.534</td>\n",
       "      <td>шестьсот восемьдесят восемь тысяч шестьсот дев...</td>\n",
       "    </tr>\n",
       "    <tr>\n",
       "      <th>3</th>\n",
       "      <td>numbers2/train/5e0954b206.wav</td>\n",
       "      <td>3.358</td>\n",
       "      <td>двести шестьдесят пять тысяч триста восемьдеся...</td>\n",
       "    </tr>\n",
       "    <tr>\n",
       "      <th>4</th>\n",
       "      <td>numbers2/train/7130a67690.wav</td>\n",
       "      <td>3.040</td>\n",
       "      <td>девятьсот пятьдесят пять тысяч четыреста пятна...</td>\n",
       "    </tr>\n",
       "  </tbody>\n",
       "</table>\n",
       "</div>"
      ],
      "text/plain": [
       "                  audio_filepath  duration  \\\n",
       "0  numbers2/train/e332b996d3.wav     2.372   \n",
       "1  numbers2/train/e25afda49a.wav     3.361   \n",
       "2  numbers2/train/364f147340.wav     3.534   \n",
       "3  numbers2/train/5e0954b206.wav     3.358   \n",
       "4  numbers2/train/7130a67690.wav     3.040   \n",
       "\n",
       "                                                text  \n",
       "0                  сто пятьдесят семь тысяч сто пять  \n",
       "1  триста семьдесят четыре тысячи пятьсот пятьдес...  \n",
       "2  шестьсот восемьдесят восемь тысяч шестьсот дев...  \n",
       "3  двести шестьдесят пять тысяч триста восемьдеся...  \n",
       "4  девятьсот пятьдесят пять тысяч четыреста пятна...  "
      ]
     },
     "execution_count": 75,
     "metadata": {},
     "output_type": "execute_result"
    }
   ],
   "source": [
    "data_with_missing_words.head()"
   ]
  },
  {
   "cell_type": "code",
   "execution_count": 136,
   "id": "9ef28304",
   "metadata": {},
   "outputs": [
    {
     "data": {
      "text/plain": [
       "['четырнадцать',\n",
       " 'десять',\n",
       " 'семьдесят',\n",
       " 'шестнадцать',\n",
       " 'два',\n",
       " 'тысяча',\n",
       " 'три',\n",
       " 'миллион',\n",
       " 'семьсот',\n",
       " 'восемнадцать',\n",
       " 'восемьдесят',\n",
       " 'одна',\n",
       " 'двадцать',\n",
       " 'сто',\n",
       " 'ноль',\n",
       " 'пятнадцать',\n",
       " 'пятьсот',\n",
       " 'сорок',\n",
       " 'восемьсот',\n",
       " 'девятьсот',\n",
       " 'тридцать',\n",
       " 'тринадцать',\n",
       " 'девяносто',\n",
       " 'две',\n",
       " 'один',\n",
       " 'семнадцать',\n",
       " 'шестьдесят',\n",
       " 'шесть',\n",
       " 'тысяч',\n",
       " 'пятьдесят',\n",
       " 'тысячи',\n",
       " 'двести',\n",
       " 'семь',\n",
       " 'пять',\n",
       " 'четыре',\n",
       " 'триста',\n",
       " 'двенадцать',\n",
       " 'четыреста',\n",
       " 'девять',\n",
       " 'одиннадцать',\n",
       " 'шестьсот',\n",
       " 'девятнадцать',\n",
       " 'восемь']"
      ]
     },
     "execution_count": 136,
     "metadata": {},
     "output_type": "execute_result"
    }
   ],
   "source": [
    "list(text_numbers)"
   ]
  },
  {
   "cell_type": "code",
   "execution_count": 103,
   "id": "f814ba15",
   "metadata": {},
   "outputs": [],
   "source": [
    "augment = Compose([\n",
    "    AddGaussianNoise(min_amplitude=0.001, max_amplitude=0.015, p=0.5),\n",
    "    TimeStretch(min_rate=0.8, max_rate=1.25, p=0.5),\n",
    "    PitchShift(min_semitones=-4, max_semitones=4, p=0.5),\n",
    "])"
   ]
  },
  {
   "cell_type": "code",
   "execution_count": 108,
   "id": "b6da63ef",
   "metadata": {},
   "outputs": [
    {
     "name": "stderr",
     "output_type": "stream",
     "text": [
      "/opt/conda/lib/python3.8/site-packages/audiomentations/core/transforms_interface.py:57: UserWarning: Warning: input samples dtype is np.float64. Converting to np.float32\n",
      "  warnings.warn(\n",
      "/opt/conda/lib/python3.8/site-packages/audiomentations/core/transforms_interface.py:57: UserWarning: Warning: input samples dtype is np.float64. Converting to np.float32\n",
      "  warnings.warn(\n"
     ]
    }
   ],
   "source": [
    "### Can make more audio files\n",
    "#os.makedirs('aug/')\n",
    "def get_augmentation(x):\n",
    "    new_name = 'aug/' + x[0].split('/')[-1][:-4] + '_AUG.wav'\n",
    "    au, sr = sf.read(x[0])\n",
    "    augmented_samples = augment(samples=au, sample_rate=sr)\n",
    "    sf.write(new_name, augmented_samples, sr)\n",
    "    durtaion = augmented_samples.size / sr\n",
    "    return new_name, durtaion, x[1]\n",
    "\n",
    "aug_data = data_with_missing_words[['audio_filepath', 'text']].apply(lambda x: get_augmentation(x), axis=1)"
   ]
  },
  {
   "cell_type": "code",
   "execution_count": 117,
   "id": "3ade07ec",
   "metadata": {},
   "outputs": [],
   "source": [
    "aug_data = pd.DataFrame.from_records(data=aug_data, columns=['audio_filepath', 'duration', 'text'])"
   ]
  },
  {
   "cell_type": "code",
   "execution_count": 120,
   "id": "ca5c2e14",
   "metadata": {},
   "outputs": [],
   "source": [
    "data_with_missing_words_aug = pd.concat([data_with_missing_words, aug_data]).reset_index(drop=True)"
   ]
  },
  {
   "cell_type": "code",
   "execution_count": 123,
   "id": "334dbba5",
   "metadata": {},
   "outputs": [],
   "source": [
    "os.makedirs('csvs/')\n",
    "labeled_data.to_csv('csvs/labeled_data.csv', sep='|', index=False)\n",
    "data_synth.to_csv('csvs/data_synth.csv', sep='|', index=False)\n",
    "aug_data.to_csv('csvs/aug_data.csv', sep='|', index=False)\n",
    "data_with_missing_words.to_csv('csvs/data_with_missing_words.csv', sep='|', index=False)\n",
    "data_with_missing_words_aug.to_csv('csvs/data_with_missing_words_aug.csv', sep='|', index=False)"
   ]
  },
  {
   "cell_type": "code",
   "execution_count": 128,
   "id": "967cc502",
   "metadata": {},
   "outputs": [
    {
     "data": {
      "text/plain": [
       "(6048, 3)"
      ]
     },
     "execution_count": 128,
     "metadata": {},
     "output_type": "execute_result"
    }
   ],
   "source": [
    "data_with_missing_words_aug.shape"
   ]
  },
  {
   "cell_type": "code",
   "execution_count": 130,
   "id": "4fa1eeef",
   "metadata": {},
   "outputs": [],
   "source": [
    "data_with_missing_words_aug = data_with_missing_words_aug.sample(frac=1).reset_index(drop=True)"
   ]
  },
  {
   "cell_type": "code",
   "execution_count": 132,
   "id": "260cebb7",
   "metadata": {},
   "outputs": [],
   "source": [
    "train_data = data_with_missing_words_aug.iloc[: 5100]\n",
    "valid_data = data_with_missing_words_aug.iloc[5100 : 5600].reset_index(drop=True)\n",
    "test_data = data_with_missing_words_aug.iloc[5600 : ].reset_index(drop=True)"
   ]
  },
  {
   "cell_type": "code",
   "execution_count": 135,
   "id": "044e2267",
   "metadata": {},
   "outputs": [],
   "source": [
    "os.makedirs('json_data/')\n",
    "\n",
    "train_manifest_file = 'json_data/train_data.json'\n",
    "with open(train_manifest_file, 'w') as fout:\n",
    "    for i in range(len(train_data)):\n",
    "        metadata = {\n",
    "                    \"audio_filepath\": train_data['audio_filepath'][i],\n",
    "                    \"duration\": train_data['duration'][i],\n",
    "                    \"text\": train_data['text'][i]\n",
    "                }\n",
    "        json.dump(metadata, fout)\n",
    "        fout.write('\\n')\n",
    "        \n",
    "valid_manifest_file = 'json_data/valid_data.json'\n",
    "with open(valid_manifest_file, 'w') as fout:\n",
    "    for i in range(len(valid_data)):\n",
    "        metadata = {\n",
    "                    \"audio_filepath\": valid_data['audio_filepath'][i],\n",
    "                    \"duration\": valid_data['duration'][i],\n",
    "                    \"text\": valid_data['text'][i]\n",
    "                }\n",
    "        json.dump(metadata, fout)\n",
    "        fout.write('\\n')\n",
    "        \n",
    "test_manifest_file = 'json_data/test_data.json'\n",
    "with open(test_manifest_file, 'w') as fout:\n",
    "    for i in range(len(test_data)):\n",
    "        metadata = {\n",
    "                    \"audio_filepath\": test_data['audio_filepath'][i],\n",
    "                    \"duration\": test_data['duration'][i],\n",
    "                    \"text\": test_data['text'][i]\n",
    "                }\n",
    "        json.dump(metadata, fout)\n",
    "        fout.write('\\n')"
   ]
  }
 ],
 "metadata": {
  "kernelspec": {
   "display_name": "Python 3 (ipykernel)",
   "language": "python",
   "name": "python3"
  },
  "language_info": {
   "codemirror_mode": {
    "name": "ipython",
    "version": 3
   },
   "file_extension": ".py",
   "mimetype": "text/x-python",
   "name": "python",
   "nbconvert_exporter": "python",
   "pygments_lexer": "ipython3",
   "version": "3.8.12"
  }
 },
 "nbformat": 4,
 "nbformat_minor": 5
}
